{
 "cells": [
  {
   "cell_type": "markdown",
   "metadata": {},
   "source": [
    "## Importing all the necessary libraries"
   ]
  },
  {
   "cell_type": "code",
   "execution_count": null,
   "metadata": {},
   "outputs": [],
   "source": [
    "# Install the below mentioned libraries before running this notebook"
   ]
  },
  {
   "cell_type": "code",
   "execution_count": 1,
   "metadata": {},
   "outputs": [],
   "source": [
    "import pandas as pd \n",
    "import numpy as np\n",
    "import seaborn as sns\n",
    "import matplotlib.pyplot as plt\n",
    "from datetime import datetime"
   ]
  },
  {
   "cell_type": "markdown",
   "metadata": {},
   "source": [
    "## Loading Datasets"
   ]
  },
  {
   "cell_type": "code",
   "execution_count": 2,
   "metadata": {},
   "outputs": [],
   "source": [
    "df_gpu = pd.read_csv(\"C:/Users/Acer/OneDrive - Newcastle University/Newcastle/Cloud Computing/data/gpu.csv\")"
   ]
  },
  {
   "cell_type": "code",
   "execution_count": 3,
   "metadata": {},
   "outputs": [],
   "source": [
    "df_app = pd.read_csv(\"C:/Users/Acer/OneDrive - Newcastle University/Newcastle/Cloud Computing/data/application-checkpoints.csv\")"
   ]
  },
  {
   "cell_type": "code",
   "execution_count": 4,
   "metadata": {},
   "outputs": [],
   "source": [
    "df_task = pd.read_csv(\"C:/Users/Acer/OneDrive - Newcastle University/Newcastle/Cloud Computing/data/task-x-y.csv\")"
   ]
  },
  {
   "cell_type": "markdown",
   "metadata": {},
   "source": [
    "#### GPU Dataset"
   ]
  },
  {
   "cell_type": "code",
   "execution_count": 5,
   "metadata": {},
   "outputs": [
    {
     "data": {
      "text/html": [
       "<div>\n",
       "<style scoped>\n",
       "    .dataframe tbody tr th:only-of-type {\n",
       "        vertical-align: middle;\n",
       "    }\n",
       "\n",
       "    .dataframe tbody tr th {\n",
       "        vertical-align: top;\n",
       "    }\n",
       "\n",
       "    .dataframe thead th {\n",
       "        text-align: right;\n",
       "    }\n",
       "</style>\n",
       "<table border=\"1\" class=\"dataframe\">\n",
       "  <thead>\n",
       "    <tr style=\"text-align: right;\">\n",
       "      <th></th>\n",
       "      <th>timestamp</th>\n",
       "      <th>hostname</th>\n",
       "      <th>gpuSerial</th>\n",
       "      <th>gpuUUID</th>\n",
       "      <th>powerDrawWatt</th>\n",
       "      <th>gpuTempC</th>\n",
       "      <th>gpuUtilPerc</th>\n",
       "      <th>gpuMemUtilPerc</th>\n",
       "    </tr>\n",
       "  </thead>\n",
       "  <tbody>\n",
       "    <tr>\n",
       "      <th>0</th>\n",
       "      <td>2018-11-08T08:27:10.314Z</td>\n",
       "      <td>8b6a0eebc87b4cb2b0539e81075191b900001C</td>\n",
       "      <td>323217055910</td>\n",
       "      <td>GPU-1d1602dc-f615-a7c7-ab53-fb4a7a479534</td>\n",
       "      <td>131.55</td>\n",
       "      <td>48</td>\n",
       "      <td>92</td>\n",
       "      <td>53</td>\n",
       "    </tr>\n",
       "    <tr>\n",
       "      <th>1</th>\n",
       "      <td>2018-11-08T08:27:10.192Z</td>\n",
       "      <td>d8241877cd994572b46c861e5d144c85000000</td>\n",
       "      <td>323617020295</td>\n",
       "      <td>GPU-04a2dea7-f4f1-12d0-b94d-996446746e6f</td>\n",
       "      <td>117.03</td>\n",
       "      <td>40</td>\n",
       "      <td>92</td>\n",
       "      <td>48</td>\n",
       "    </tr>\n",
       "    <tr>\n",
       "      <th>2</th>\n",
       "      <td>2018-11-08T08:27:10.842Z</td>\n",
       "      <td>db871cd77a544e13bc791a64a0c8ed50000006</td>\n",
       "      <td>323217056562</td>\n",
       "      <td>GPU-f4597939-a0b4-e78a-2436-12dbab9a350f</td>\n",
       "      <td>121.64</td>\n",
       "      <td>45</td>\n",
       "      <td>91</td>\n",
       "      <td>44</td>\n",
       "    </tr>\n",
       "    <tr>\n",
       "      <th>3</th>\n",
       "      <td>2018-11-08T08:27:10.424Z</td>\n",
       "      <td>b9a1fa7ae2f74eb68f25f607980f97d7000010</td>\n",
       "      <td>325217085931</td>\n",
       "      <td>GPU-ad773c69-c386-a4be-b214-1ea4fc6045df</td>\n",
       "      <td>50.23</td>\n",
       "      <td>38</td>\n",
       "      <td>90</td>\n",
       "      <td>43</td>\n",
       "    </tr>\n",
       "    <tr>\n",
       "      <th>4</th>\n",
       "      <td>2018-11-08T08:27:10.937Z</td>\n",
       "      <td>db871cd77a544e13bc791a64a0c8ed50000003</td>\n",
       "      <td>323217056464</td>\n",
       "      <td>GPU-2d4eed64-4ca8-f12c-24bc-28f036493ea2</td>\n",
       "      <td>141.82</td>\n",
       "      <td>41</td>\n",
       "      <td>90</td>\n",
       "      <td>47</td>\n",
       "    </tr>\n",
       "  </tbody>\n",
       "</table>\n",
       "</div>"
      ],
      "text/plain": [
       "                  timestamp                                hostname  \\\n",
       "0  2018-11-08T08:27:10.314Z  8b6a0eebc87b4cb2b0539e81075191b900001C   \n",
       "1  2018-11-08T08:27:10.192Z  d8241877cd994572b46c861e5d144c85000000   \n",
       "2  2018-11-08T08:27:10.842Z  db871cd77a544e13bc791a64a0c8ed50000006   \n",
       "3  2018-11-08T08:27:10.424Z  b9a1fa7ae2f74eb68f25f607980f97d7000010   \n",
       "4  2018-11-08T08:27:10.937Z  db871cd77a544e13bc791a64a0c8ed50000003   \n",
       "\n",
       "      gpuSerial                                   gpuUUID  powerDrawWatt  \\\n",
       "0  323217055910  GPU-1d1602dc-f615-a7c7-ab53-fb4a7a479534         131.55   \n",
       "1  323617020295  GPU-04a2dea7-f4f1-12d0-b94d-996446746e6f         117.03   \n",
       "2  323217056562  GPU-f4597939-a0b4-e78a-2436-12dbab9a350f         121.64   \n",
       "3  325217085931  GPU-ad773c69-c386-a4be-b214-1ea4fc6045df          50.23   \n",
       "4  323217056464  GPU-2d4eed64-4ca8-f12c-24bc-28f036493ea2         141.82   \n",
       "\n",
       "   gpuTempC  gpuUtilPerc  gpuMemUtilPerc  \n",
       "0        48           92              53  \n",
       "1        40           92              48  \n",
       "2        45           91              44  \n",
       "3        38           90              43  \n",
       "4        41           90              47  "
      ]
     },
     "execution_count": 5,
     "metadata": {},
     "output_type": "execute_result"
    }
   ],
   "source": [
    "# Printing first few lines\n",
    "df_gpu.head()"
   ]
  },
  {
   "cell_type": "code",
   "execution_count": 6,
   "metadata": {},
   "outputs": [
    {
     "data": {
      "text/plain": [
       "(1543681, 8)"
      ]
     },
     "execution_count": 6,
     "metadata": {},
     "output_type": "execute_result"
    }
   ],
   "source": [
    "# Checking diemnsions of data \n",
    "df_gpu.shape"
   ]
  },
  {
   "cell_type": "code",
   "execution_count": 7,
   "metadata": {},
   "outputs": [],
   "source": [
    "# Finding duplicates acoss all columns\n",
    "duplicateRows = df_gpu[df_gpu.duplicated()]"
   ]
  },
  {
   "cell_type": "code",
   "execution_count": 13,
   "metadata": {},
   "outputs": [
    {
     "data": {
      "text/plain": [
       "(1543663, 8)"
      ]
     },
     "execution_count": 13,
     "metadata": {},
     "output_type": "execute_result"
    }
   ],
   "source": [
    "# Dropping duplicate rows\n",
    "df_gpu = df_gpu.drop_duplicates(keep=False)\n",
    "df_gpu.shape"
   ]
  },
  {
   "cell_type": "code",
   "execution_count": 14,
   "metadata": {},
   "outputs": [],
   "source": [
    "duplicateRows = df_gpu[df_gpu.duplicated(['gpuUUID'])]"
   ]
  },
  {
   "cell_type": "code",
   "execution_count": 16,
   "metadata": {},
   "outputs": [
    {
     "data": {
      "text/plain": [
       "(1024, 8)"
      ]
     },
     "execution_count": 16,
     "metadata": {},
     "output_type": "execute_result"
    }
   ],
   "source": [
    "df_gpu_test = df_gpu.drop_duplicates(subset=['gpuUUID'])\n",
    "df_gpu_test.shape"
   ]
  },
  {
   "cell_type": "markdown",
   "metadata": {},
   "source": [
    "#### Application Checkpoint Dataset"
   ]
  },
  {
   "cell_type": "code",
   "execution_count": 12,
   "metadata": {},
   "outputs": [
    {
     "data": {
      "text/html": [
       "<div>\n",
       "<style scoped>\n",
       "    .dataframe tbody tr th:only-of-type {\n",
       "        vertical-align: middle;\n",
       "    }\n",
       "\n",
       "    .dataframe tbody tr th {\n",
       "        vertical-align: top;\n",
       "    }\n",
       "\n",
       "    .dataframe thead th {\n",
       "        text-align: right;\n",
       "    }\n",
       "</style>\n",
       "<table border=\"1\" class=\"dataframe\">\n",
       "  <thead>\n",
       "    <tr style=\"text-align: right;\">\n",
       "      <th></th>\n",
       "      <th>timestamp</th>\n",
       "      <th>hostname</th>\n",
       "      <th>eventName</th>\n",
       "      <th>eventType</th>\n",
       "      <th>jobId</th>\n",
       "      <th>taskId</th>\n",
       "    </tr>\n",
       "  </thead>\n",
       "  <tbody>\n",
       "    <tr>\n",
       "      <th>0</th>\n",
       "      <td>2018-11-08T07:41:55.921Z</td>\n",
       "      <td>0d56a730076643d585f77e00d2d8521a00000N</td>\n",
       "      <td>Tiling</td>\n",
       "      <td>STOP</td>\n",
       "      <td>1024-lvl12-7e026be3-5fd0-48ee-b7d1-abd61f747705</td>\n",
       "      <td>b47f0263-ba1c-48a7-8d29-4bf021b72043</td>\n",
       "    </tr>\n",
       "    <tr>\n",
       "      <th>1</th>\n",
       "      <td>2018-11-08T07:42:29.842Z</td>\n",
       "      <td>0d56a730076643d585f77e00d2d8521a00000N</td>\n",
       "      <td>Saving Config</td>\n",
       "      <td>START</td>\n",
       "      <td>1024-lvl12-7e026be3-5fd0-48ee-b7d1-abd61f747705</td>\n",
       "      <td>20fb9fcf-a927-4a4b-a64c-70258b66b42d</td>\n",
       "    </tr>\n",
       "    <tr>\n",
       "      <th>2</th>\n",
       "      <td>2018-11-08T07:42:29.845Z</td>\n",
       "      <td>0d56a730076643d585f77e00d2d8521a00000N</td>\n",
       "      <td>Saving Config</td>\n",
       "      <td>STOP</td>\n",
       "      <td>1024-lvl12-7e026be3-5fd0-48ee-b7d1-abd61f747705</td>\n",
       "      <td>20fb9fcf-a927-4a4b-a64c-70258b66b42d</td>\n",
       "    </tr>\n",
       "    <tr>\n",
       "      <th>3</th>\n",
       "      <td>2018-11-08T07:42:29.845Z</td>\n",
       "      <td>0d56a730076643d585f77e00d2d8521a00000N</td>\n",
       "      <td>Render</td>\n",
       "      <td>START</td>\n",
       "      <td>1024-lvl12-7e026be3-5fd0-48ee-b7d1-abd61f747705</td>\n",
       "      <td>20fb9fcf-a927-4a4b-a64c-70258b66b42d</td>\n",
       "    </tr>\n",
       "    <tr>\n",
       "      <th>4</th>\n",
       "      <td>2018-11-08T07:43:13.957Z</td>\n",
       "      <td>0d56a730076643d585f77e00d2d8521a00000N</td>\n",
       "      <td>TotalRender</td>\n",
       "      <td>STOP</td>\n",
       "      <td>1024-lvl12-7e026be3-5fd0-48ee-b7d1-abd61f747705</td>\n",
       "      <td>20fb9fcf-a927-4a4b-a64c-70258b66b42d</td>\n",
       "    </tr>\n",
       "  </tbody>\n",
       "</table>\n",
       "</div>"
      ],
      "text/plain": [
       "                  timestamp                                hostname  \\\n",
       "0  2018-11-08T07:41:55.921Z  0d56a730076643d585f77e00d2d8521a00000N   \n",
       "1  2018-11-08T07:42:29.842Z  0d56a730076643d585f77e00d2d8521a00000N   \n",
       "2  2018-11-08T07:42:29.845Z  0d56a730076643d585f77e00d2d8521a00000N   \n",
       "3  2018-11-08T07:42:29.845Z  0d56a730076643d585f77e00d2d8521a00000N   \n",
       "4  2018-11-08T07:43:13.957Z  0d56a730076643d585f77e00d2d8521a00000N   \n",
       "\n",
       "       eventName eventType                                            jobId  \\\n",
       "0         Tiling      STOP  1024-lvl12-7e026be3-5fd0-48ee-b7d1-abd61f747705   \n",
       "1  Saving Config     START  1024-lvl12-7e026be3-5fd0-48ee-b7d1-abd61f747705   \n",
       "2  Saving Config      STOP  1024-lvl12-7e026be3-5fd0-48ee-b7d1-abd61f747705   \n",
       "3         Render     START  1024-lvl12-7e026be3-5fd0-48ee-b7d1-abd61f747705   \n",
       "4    TotalRender      STOP  1024-lvl12-7e026be3-5fd0-48ee-b7d1-abd61f747705   \n",
       "\n",
       "                                 taskId  \n",
       "0  b47f0263-ba1c-48a7-8d29-4bf021b72043  \n",
       "1  20fb9fcf-a927-4a4b-a64c-70258b66b42d  \n",
       "2  20fb9fcf-a927-4a4b-a64c-70258b66b42d  \n",
       "3  20fb9fcf-a927-4a4b-a64c-70258b66b42d  \n",
       "4  20fb9fcf-a927-4a4b-a64c-70258b66b42d  "
      ]
     },
     "execution_count": 12,
     "metadata": {},
     "output_type": "execute_result"
    }
   ],
   "source": [
    "# Printing first few lines\n",
    "df_app.head()"
   ]
  },
  {
   "cell_type": "code",
   "execution_count": 14,
   "metadata": {},
   "outputs": [
    {
     "data": {
      "text/plain": [
       "(660400, 6)"
      ]
     },
     "execution_count": 14,
     "metadata": {},
     "output_type": "execute_result"
    }
   ],
   "source": [
    "# Checking diemnsions of data \n",
    "df_app.shape"
   ]
  },
  {
   "cell_type": "markdown",
   "metadata": {},
   "source": [
    "#### Tast Dataset"
   ]
  },
  {
   "cell_type": "code",
   "execution_count": 15,
   "metadata": {},
   "outputs": [
    {
     "data": {
      "text/html": [
       "<div>\n",
       "<style scoped>\n",
       "    .dataframe tbody tr th:only-of-type {\n",
       "        vertical-align: middle;\n",
       "    }\n",
       "\n",
       "    .dataframe tbody tr th {\n",
       "        vertical-align: top;\n",
       "    }\n",
       "\n",
       "    .dataframe thead th {\n",
       "        text-align: right;\n",
       "    }\n",
       "</style>\n",
       "<table border=\"1\" class=\"dataframe\">\n",
       "  <thead>\n",
       "    <tr style=\"text-align: right;\">\n",
       "      <th></th>\n",
       "      <th>taskId</th>\n",
       "      <th>jobId</th>\n",
       "      <th>x</th>\n",
       "      <th>y</th>\n",
       "      <th>level</th>\n",
       "    </tr>\n",
       "  </thead>\n",
       "  <tbody>\n",
       "    <tr>\n",
       "      <th>0</th>\n",
       "      <td>00004e77-304c-4fbd-88a1-1346ef947567</td>\n",
       "      <td>1024-lvl12-7e026be3-5fd0-48ee-b7d1-abd61f747705</td>\n",
       "      <td>116</td>\n",
       "      <td>178</td>\n",
       "      <td>12</td>\n",
       "    </tr>\n",
       "    <tr>\n",
       "      <th>1</th>\n",
       "      <td>0002afb5-d05e-4da9-bd53-7b6dc19ea6d4</td>\n",
       "      <td>1024-lvl12-7e026be3-5fd0-48ee-b7d1-abd61f747705</td>\n",
       "      <td>142</td>\n",
       "      <td>190</td>\n",
       "      <td>12</td>\n",
       "    </tr>\n",
       "    <tr>\n",
       "      <th>2</th>\n",
       "      <td>0003c380-4db9-49fb-8e1c-6f8ae466ad85</td>\n",
       "      <td>1024-lvl12-7e026be3-5fd0-48ee-b7d1-abd61f747705</td>\n",
       "      <td>142</td>\n",
       "      <td>86</td>\n",
       "      <td>12</td>\n",
       "    </tr>\n",
       "    <tr>\n",
       "      <th>3</th>\n",
       "      <td>000993b6-fc88-489d-a4ca-0a44fd800bd3</td>\n",
       "      <td>1024-lvl12-7e026be3-5fd0-48ee-b7d1-abd61f747705</td>\n",
       "      <td>235</td>\n",
       "      <td>11</td>\n",
       "      <td>12</td>\n",
       "    </tr>\n",
       "    <tr>\n",
       "      <th>4</th>\n",
       "      <td>000b158b-0ba3-4dca-bf5b-1b3bd5c28207</td>\n",
       "      <td>1024-lvl12-7e026be3-5fd0-48ee-b7d1-abd61f747705</td>\n",
       "      <td>171</td>\n",
       "      <td>53</td>\n",
       "      <td>12</td>\n",
       "    </tr>\n",
       "  </tbody>\n",
       "</table>\n",
       "</div>"
      ],
      "text/plain": [
       "                                 taskId  \\\n",
       "0  00004e77-304c-4fbd-88a1-1346ef947567   \n",
       "1  0002afb5-d05e-4da9-bd53-7b6dc19ea6d4   \n",
       "2  0003c380-4db9-49fb-8e1c-6f8ae466ad85   \n",
       "3  000993b6-fc88-489d-a4ca-0a44fd800bd3   \n",
       "4  000b158b-0ba3-4dca-bf5b-1b3bd5c28207   \n",
       "\n",
       "                                             jobId    x    y  level  \n",
       "0  1024-lvl12-7e026be3-5fd0-48ee-b7d1-abd61f747705  116  178     12  \n",
       "1  1024-lvl12-7e026be3-5fd0-48ee-b7d1-abd61f747705  142  190     12  \n",
       "2  1024-lvl12-7e026be3-5fd0-48ee-b7d1-abd61f747705  142   86     12  \n",
       "3  1024-lvl12-7e026be3-5fd0-48ee-b7d1-abd61f747705  235   11     12  \n",
       "4  1024-lvl12-7e026be3-5fd0-48ee-b7d1-abd61f747705  171   53     12  "
      ]
     },
     "execution_count": 15,
     "metadata": {},
     "output_type": "execute_result"
    }
   ],
   "source": [
    "# Printing first few lines\n",
    "df_task.head()"
   ]
  },
  {
   "cell_type": "code",
   "execution_count": 16,
   "metadata": {},
   "outputs": [
    {
     "data": {
      "text/plain": [
       "(65793, 5)"
      ]
     },
     "execution_count": 16,
     "metadata": {},
     "output_type": "execute_result"
    }
   ],
   "source": [
    "# Checking diemnsions of data\n",
    "df_task.shape"
   ]
  },
  {
   "cell_type": "markdown",
   "metadata": {},
   "source": [
    "# Exploratory Data Analysis"
   ]
  },
  {
   "cell_type": "code",
   "execution_count": 17,
   "metadata": {},
   "outputs": [],
   "source": [
    "def timestamp_conv(df):\n",
    "    \"\"\"\n",
    "    Converts a timestamp to datetime\n",
    "    \n",
    "    Parameters\n",
    "    ----------\n",
    "    df\n",
    "        dataframe to convert to datetime\n",
    "    ----------\n",
    "    float\n",
    "        converted timestamp\n",
    "    \"\"\"\n",
    "    df = df.apply(lambda x: (datetime.strptime(x, TIMESTAMP_FORMAT)))    \n",
    "    return(df)  "
   ]
  },
  {
   "cell_type": "code",
   "execution_count": 19,
   "metadata": {},
   "outputs": [],
   "source": [
    "def merge_check_task(df_checkpoints, df_tasks):\n",
    "\n",
    "\n",
    "    # Merging (left join) taskId and jobId\n",
    "\n",
    "    check_task_df = df_checkpoints.merge(df_tasks,\n",
    "                                     on=['taskId', 'jobId'], how='left')\n",
    "    return (check_task_df)"
   ]
  },
  {
   "cell_type": "code",
   "execution_count": 32,
   "metadata": {},
   "outputs": [],
   "source": [
    "def merge_gpu_app(gpu_data, df_app):\n",
    "\n",
    "\n",
    "    # Merging gpu and application chechpoints data (inner join) based on timestamp and hostname\n",
    "\n",
    "    merge_gpu_app = gpu_data.merge(df_app,\n",
    "                                     on=['timestamp', 'hostname'], how='inner')\n",
    "    return (merge_gpu_app)\n",
    "\n",
    "df_merge_apu_app = merge_gpu_app(df_gpu, df_app)"
   ]
  },
  {
   "cell_type": "code",
   "execution_count": 33,
   "metadata": {},
   "outputs": [
    {
     "data": {
      "text/plain": [
       "(337, 12)"
      ]
     },
     "execution_count": 33,
     "metadata": {},
     "output_type": "execute_result"
    }
   ],
   "source": [
    "df_merge_apu_app.shape"
   ]
  },
  {
   "cell_type": "code",
   "execution_count": 52,
   "metadata": {},
   "outputs": [
    {
     "data": {
      "text/plain": [
       "35bd84d72aca403b8129a7d652cc2750000005    3002\n",
       "4a79b6d2616049edbf06c6aa58ab426a00000Y    3002\n",
       "4ad946d4435c42dabb5073531ea4f315000001    3002\n",
       "0745914f4de046078517041d70b22fe7000005    3002\n",
       "95b4ae6d890e4c46986d91d7ac4bf082000010    2992\n",
       "                                          ... \n",
       "0d56a730076643d585f77e00d2d8521a00000I    1492\n",
       "0d56a730076643d585f77e00d2d8521a00000X    1492\n",
       "0d56a730076643d585f77e00d2d8521a00000N    1492\n",
       "0d56a730076643d585f77e00d2d8521a00000S    1491\n",
       "0d56a730076643d585f77e00d2d8521a000012    1489\n",
       "Name: hostname, Length: 1024, dtype: int64"
      ]
     },
     "execution_count": 52,
     "metadata": {},
     "output_type": "execute_result"
    }
   ],
   "source": [
    "df_gpu['hostname'].value_counts()"
   ]
  },
  {
   "cell_type": "code",
   "execution_count": 18,
   "metadata": {},
   "outputs": [
    {
     "data": {
      "image/png": "[encoded data removed]",
      "text/plain": [
       "<Figure size 720x432 with 1 Axes>"
      ]
     },
     "metadata": {
      "needs_background": "light"
     },
     "output_type": "display_data"
    }
   ],
   "source": [
    "# Plotting host name frequency\n",
    "df_gpu['hostname'].value_counts().plot(kind = 'hist')\n",
    "plt.xlabel('Number of Tasks Assigned')\n",
    "plt.title('Tasks Assigned by GPU')\n",
    "plt.rcParams['figure.figsize'] = [10, 6]\n",
    "\n",
    " # Saving figure\n",
    "#plt.savefig('Images/tasks.png')\n",
    "plt.show()"
   ]
  },
  {
   "cell_type": "code",
   "execution_count": 83,
   "metadata": {},
   "outputs": [],
   "source": [
    "x = df_gpu.gpuTempC\n",
    "y = df_gpu.powerDrawWatt"
   ]
  },
  {
   "cell_type": "code",
   "execution_count": 84,
   "metadata": {},
   "outputs": [
    {
     "data": {
      "image/png": "[encoded data removed]",
      "text/plain": [
       "<Figure size 720x432 with 1 Axes>"
      ]
     },
     "metadata": {},
     "output_type": "display_data"
    }
   ],
   "source": [
    "# Plotting scatter plot\n",
    "plt.scatter(x,y)\n",
    "plt.xlabel('GPU Temperature')\n",
    "plt.ylabel('Power Drawn')\n",
    "plt.title('GPU Temp VS Power Drawn')\n",
    "\n",
    "# Defining chart size\n",
    "plt.rcParams['figure.figsize'] = [10, 6]\n",
    "\n",
    "# Saving Image\n",
    "plt.savefig('Images/temp-power.png')\n",
    "plt.show()"
   ]
  },
  {
   "cell_type": "code",
   "execution_count": 80,
   "metadata": {},
   "outputs": [],
   "source": [
    "x = df_gpu.gpuMemUtilPerc\n",
    "y = df_gpu.gpuUtilPerc"
   ]
  },
  {
   "cell_type": "code",
   "execution_count": 81,
   "metadata": {},
   "outputs": [
    {
     "data": {
      "image/png": "[encoded data removed]",
      "text/plain": [
       "<Figure size 720x432 with 1 Axes>"
      ]
     },
     "metadata": {},
     "output_type": "display_data"
    }
   ],
   "source": [
    "# Plotting scatter plot\n",
    "plt.scatter(x,y)\n",
    "plt.xlabel('GPU Memory Utility Percentage')\n",
    "plt.ylabel('GPU Utility Percentage')\n",
    "plt.title('GPU Memory Utility vs Utility Percentage')\n",
    "\n",
    "# Defining chart size\n",
    "plt.rcParams['figure.figsize'] = [10, 6]\n",
    "\n",
    "# Saving Image\n",
    "plt.savefig('Images/mem-utility.png')\n",
    "plt.show()"
   ]
  },
  {
   "cell_type": "code",
   "execution_count": 17,
   "metadata": {},
   "outputs": [
    {
     "name": "stdout",
     "output_type": "stream",
     "text": [
      "<class 'pandas.core.frame.DataFrame'>\n",
      "RangeIndex: 1543681 entries, 0 to 1543680\n",
      "Data columns (total 8 columns):\n",
      " #   Column          Non-Null Count    Dtype  \n",
      "---  ------          --------------    -----  \n",
      " 0   timestamp       1543681 non-null  object \n",
      " 1   hostname        1543681 non-null  object \n",
      " 2   gpuSerial       1543681 non-null  int64  \n",
      " 3   gpuUUID         1543681 non-null  object \n",
      " 4   powerDrawWatt   1543681 non-null  float64\n",
      " 5   gpuTempC        1543681 non-null  int64  \n",
      " 6   gpuUtilPerc     1543681 non-null  int64  \n",
      " 7   gpuMemUtilPerc  1543681 non-null  int64  \n",
      "dtypes: float64(1), int64(4), object(3)\n",
      "memory usage: 94.2+ MB\n"
     ]
    }
   ],
   "source": [
    "# Summary of the data\n",
    "df_gpu.info()"
   ]
  },
  {
   "cell_type": "code",
   "execution_count": 63,
   "metadata": {},
   "outputs": [
    {
     "data": {
      "text/html": [
       "<div>\n",
       "<style scoped>\n",
       "    .dataframe tbody tr th:only-of-type {\n",
       "        vertical-align: middle;\n",
       "    }\n",
       "\n",
       "    .dataframe tbody tr th {\n",
       "        vertical-align: top;\n",
       "    }\n",
       "\n",
       "    .dataframe thead th {\n",
       "        text-align: right;\n",
       "    }\n",
       "</style>\n",
       "<table border=\"1\" class=\"dataframe\">\n",
       "  <thead>\n",
       "    <tr style=\"text-align: right;\">\n",
       "      <th></th>\n",
       "      <th>gpuSerial</th>\n",
       "      <th>powerDrawWatt</th>\n",
       "      <th>gpuTempC</th>\n",
       "      <th>gpuUtilPerc</th>\n",
       "      <th>gpuMemUtilPerc</th>\n",
       "    </tr>\n",
       "  </thead>\n",
       "  <tbody>\n",
       "    <tr>\n",
       "      <th>count</th>\n",
       "      <td>1.543681e+06</td>\n",
       "      <td>1.543681e+06</td>\n",
       "      <td>1.543681e+06</td>\n",
       "      <td>1.543681e+06</td>\n",
       "      <td>1.543681e+06</td>\n",
       "    </tr>\n",
       "    <tr>\n",
       "      <th>mean</th>\n",
       "      <td>3.239836e+11</td>\n",
       "      <td>8.919838e+01</td>\n",
       "      <td>4.007560e+01</td>\n",
       "      <td>6.305820e+01</td>\n",
       "      <td>3.341359e+01</td>\n",
       "    </tr>\n",
       "    <tr>\n",
       "      <th>std</th>\n",
       "      <td>1.228841e+09</td>\n",
       "      <td>3.975742e+01</td>\n",
       "      <td>3.800243e+00</td>\n",
       "      <td>4.144816e+01</td>\n",
       "      <td>2.300107e+01</td>\n",
       "    </tr>\n",
       "    <tr>\n",
       "      <th>min</th>\n",
       "      <td>3.201181e+11</td>\n",
       "      <td>2.255000e+01</td>\n",
       "      <td>2.600000e+01</td>\n",
       "      <td>0.000000e+00</td>\n",
       "      <td>0.000000e+00</td>\n",
       "    </tr>\n",
       "    <tr>\n",
       "      <th>25%</th>\n",
       "      <td>3.236170e+11</td>\n",
       "      <td>4.499000e+01</td>\n",
       "      <td>3.800000e+01</td>\n",
       "      <td>0.000000e+00</td>\n",
       "      <td>0.000000e+00</td>\n",
       "    </tr>\n",
       "    <tr>\n",
       "      <th>50%</th>\n",
       "      <td>3.236170e+11</td>\n",
       "      <td>9.659000e+01</td>\n",
       "      <td>4.000000e+01</td>\n",
       "      <td>8.900000e+01</td>\n",
       "      <td>4.300000e+01</td>\n",
       "    </tr>\n",
       "    <tr>\n",
       "      <th>75%</th>\n",
       "      <td>3.250170e+11</td>\n",
       "      <td>1.213400e+02</td>\n",
       "      <td>4.200000e+01</td>\n",
       "      <td>9.200000e+01</td>\n",
       "      <td>5.100000e+01</td>\n",
       "    </tr>\n",
       "    <tr>\n",
       "      <th>max</th>\n",
       "      <td>3.252171e+11</td>\n",
       "      <td>1.970100e+02</td>\n",
       "      <td>5.500000e+01</td>\n",
       "      <td>1.000000e+02</td>\n",
       "      <td>8.300000e+01</td>\n",
       "    </tr>\n",
       "  </tbody>\n",
       "</table>\n",
       "</div>"
      ],
      "text/plain": [
       "          gpuSerial  powerDrawWatt      gpuTempC   gpuUtilPerc  gpuMemUtilPerc\n",
       "count  1.543681e+06   1.543681e+06  1.543681e+06  1.543681e+06    1.543681e+06\n",
       "mean   3.239836e+11   8.919838e+01  4.007560e+01  6.305820e+01    3.341359e+01\n",
       "std    1.228841e+09   3.975742e+01  3.800243e+00  4.144816e+01    2.300107e+01\n",
       "min    3.201181e+11   2.255000e+01  2.600000e+01  0.000000e+00    0.000000e+00\n",
       "25%    3.236170e+11   4.499000e+01  3.800000e+01  0.000000e+00    0.000000e+00\n",
       "50%    3.236170e+11   9.659000e+01  4.000000e+01  8.900000e+01    4.300000e+01\n",
       "75%    3.250170e+11   1.213400e+02  4.200000e+01  9.200000e+01    5.100000e+01\n",
       "max    3.252171e+11   1.970100e+02  5.500000e+01  1.000000e+02    8.300000e+01"
      ]
     },
     "execution_count": 63,
     "metadata": {},
     "output_type": "execute_result"
    }
   ],
   "source": [
    "# Statistical Sumary of the data\n",
    "df_gpu.describe()"
   ]
  },
  {
   "cell_type": "code",
   "execution_count": 71,
   "metadata": {},
   "outputs": [
    {
     "data": {
      "text/html": [
       "<div>\n",
       "<style scoped>\n",
       "    .dataframe tbody tr th:only-of-type {\n",
       "        vertical-align: middle;\n",
       "    }\n",
       "\n",
       "    .dataframe tbody tr th {\n",
       "        vertical-align: top;\n",
       "    }\n",
       "\n",
       "    .dataframe thead th {\n",
       "        text-align: right;\n",
       "    }\n",
       "</style>\n",
       "<table border=\"1\" class=\"dataframe\">\n",
       "  <thead>\n",
       "    <tr style=\"text-align: right;\">\n",
       "      <th></th>\n",
       "      <th>powerDrawWatt</th>\n",
       "      <th>gpuTempC</th>\n",
       "      <th>gpuUtilPerc</th>\n",
       "      <th>gpuMemUtilPerc</th>\n",
       "    </tr>\n",
       "  </thead>\n",
       "  <tbody>\n",
       "    <tr>\n",
       "      <th>powerDrawWatt</th>\n",
       "      <td>1.000000</td>\n",
       "      <td>0.537191</td>\n",
       "      <td>0.862673</td>\n",
       "      <td>0.870745</td>\n",
       "    </tr>\n",
       "    <tr>\n",
       "      <th>gpuTempC</th>\n",
       "      <td>0.537191</td>\n",
       "      <td>1.000000</td>\n",
       "      <td>0.505906</td>\n",
       "      <td>0.492783</td>\n",
       "    </tr>\n",
       "    <tr>\n",
       "      <th>gpuUtilPerc</th>\n",
       "      <td>0.862673</td>\n",
       "      <td>0.505906</td>\n",
       "      <td>1.000000</td>\n",
       "      <td>0.966571</td>\n",
       "    </tr>\n",
       "    <tr>\n",
       "      <th>gpuMemUtilPerc</th>\n",
       "      <td>0.870745</td>\n",
       "      <td>0.492783</td>\n",
       "      <td>0.966571</td>\n",
       "      <td>1.000000</td>\n",
       "    </tr>\n",
       "  </tbody>\n",
       "</table>\n",
       "</div>"
      ],
      "text/plain": [
       "                powerDrawWatt  gpuTempC  gpuUtilPerc  gpuMemUtilPerc\n",
       "powerDrawWatt        1.000000  0.537191     0.862673        0.870745\n",
       "gpuTempC             0.537191  1.000000     0.505906        0.492783\n",
       "gpuUtilPerc          0.862673  0.505906     1.000000        0.966571\n",
       "gpuMemUtilPerc       0.870745  0.492783     0.966571        1.000000"
      ]
     },
     "execution_count": 71,
     "metadata": {},
     "output_type": "execute_result"
    }
   ],
   "source": [
    "# Seperating numerical columns needed to find correlation\n",
    "gpu_corr = df_gpu.iloc[:,4:8]\n",
    "\n",
    "# Finding correlation\n",
    "gpu_corr.corr()"
   ]
  },
  {
   "cell_type": "code",
   "execution_count": 73,
   "metadata": {},
   "outputs": [
    {
     "data": {
      "image/png": "[encoded data removed]",
      "text/plain": [
       "<Figure size 720x432 with 2 Axes>"
      ]
     },
     "metadata": {},
     "output_type": "display_data"
    }
   ],
   "source": [
    "# Plotting Heat Map\n",
    "plt.figure(figsize=(10, 6))\n",
    "sns.heatmap(gpu_corr.corr(),cmap='Greens',annot=False)\n",
    "\n",
    "# Saving Image\n",
    "plt.savefig('Images/Heat-map.png')\n",
    "plt.show()"
   ]
  },
  {
   "cell_type": "code",
   "execution_count": 20,
   "metadata": {},
   "outputs": [
    {
     "data": {
      "text/plain": [
       "Tiling           132080\n",
       "Saving Config    132080\n",
       "Render           132080\n",
       "TotalRender      132080\n",
       "Uploading        132080\n",
       "Name: eventName, dtype: int64"
      ]
     },
     "execution_count": 20,
     "metadata": {},
     "output_type": "execute_result"
    }
   ],
   "source": [
    "# Displaying total iterations based on event name\n",
    "df_app['eventName'].value_counts()"
   ]
  },
  {
   "cell_type": "code",
   "execution_count": 21,
   "metadata": {},
   "outputs": [
    {
     "data": {
      "text/plain": [
       "STOP     330200\n",
       "START    330200\n",
       "Name: eventType, dtype: int64"
      ]
     },
     "execution_count": 21,
     "metadata": {},
     "output_type": "execute_result"
    }
   ],
   "source": [
    "# Displaying total iterations based on event type\n",
    "df_app['eventType'].value_counts()"
   ]
  },
  {
   "cell_type": "code",
   "execution_count": 22,
   "metadata": {},
   "outputs": [
    {
     "data": {
      "text/plain": [
       "12    65536\n",
       "8       256\n",
       "4         1\n",
       "Name: level, dtype: int64"
      ]
     },
     "execution_count": 22,
     "metadata": {},
     "output_type": "execute_result"
    }
   ],
   "source": [
    "# Displaying counts based on level\n",
    "df_task['level'].value_counts()"
   ]
  },
  {
   "cell_type": "code",
   "execution_count": 23,
   "metadata": {},
   "outputs": [
    {
     "data": {
      "text/plain": [
       "<seaborn.axisgrid.FacetGrid at 0x19a48e9d2b0>"
      ]
     },
     "execution_count": 23,
     "metadata": {},
     "output_type": "execute_result"
    },
    {
     "data": {
      "image/png": "[encoded data removed]",
      "text/plain": [
       "<Figure size 324x324 with 1 Axes>"
      ]
     },
     "metadata": {
      "needs_background": "light"
     },
     "output_type": "display_data"
    }
   ],
   "source": [
    "sns.catplot(x='level',kind='count', data=df_task, height=4.5, palette='viridis')"
   ]
  },
  {
   "cell_type": "code",
   "execution_count": 24,
   "metadata": {},
   "outputs": [
    {
     "data": {
      "text/plain": [
       "Text(0.5, 1.0, 'Task Workload')"
      ]
     },
     "execution_count": 24,
     "metadata": {},
     "output_type": "execute_result"
    },
    {
     "data": {
      "image/png": "[encoded data removed]",
      "text/plain": [
       "<Figure size 627.375x324 with 1 Axes>"
      ]
     },
     "metadata": {
      "needs_background": "light"
     },
     "output_type": "display_data"
    }
   ],
   "source": [
    "sns.catplot(x='level', kind='count', data=df_task, hue = \"jobId\", height=4.5, palette='viridis')\n",
    "plt.title(\"Task Workload\")"
   ]
  },
  {
   "cell_type": "markdown",
   "metadata": {},
   "source": [
    "## Plotting pair subplots to obtain relationship between variables. "
   ]
  },
  {
   "cell_type": "code",
   "execution_count": 34,
   "metadata": {},
   "outputs": [
    {
     "data": {
      "text/plain": [
       "Text(0, 0.5, 'GPU Utility Percentage')"
      ]
     },
     "execution_count": 34,
     "metadata": {},
     "output_type": "execute_result"
    },
    {
     "data": {
      "image/png": "[encoded data removed]",
      "text/plain": [
       "<Figure size 720x720 with 20 Axes>"
      ]
     },
     "metadata": {
      "needs_background": "light"
     },
     "output_type": "display_data"
    }
   ],
   "source": [
    "\n",
    "matrix_corr = df_gpu.iloc[:,4:8].corr()\n",
    "sns.pairplot(matrix_corr)"
   ]
  },
  {
   "cell_type": "markdown",
   "metadata": {},
   "source": [
    "## Plotting Histogram to visualize the power consumption range"
   ]
  },
  {
   "cell_type": "code",
   "execution_count": 36,
   "metadata": {},
   "outputs": [
    {
     "data": {
      "image/png": "[encoded data removed]",
      "text/plain": [
       "<Figure size 1080x576 with 1 Axes>"
      ]
     },
     "metadata": {},
     "output_type": "display_data"
    }
   ],
   "source": [
    "# Setting size and plotting chart\n",
    "plt.figure(figsize=(15,8)) \n",
    "sns.set()\n",
    "sns.distplot(df_gpu['powerDrawWatt'], kde = False, color = 'midnightblue', label = \"Age\")\n",
    "\n",
    "# Adding Labels and Title\n",
    "plt.title(\"Power Consumption - GPU\")\n",
    "plt.xlabel('Power Drwasn (in Watts)')\n",
    "\n",
    "# Saving Image\n",
    "plt.savefig('Images/Powerconsumption.png')"
   ]
  },
  {
   "cell_type": "code",
   "execution_count": 66,
   "metadata": {},
   "outputs": [
    {
     "data": {
      "image/png": "[encoded data removed]",
      "text/plain": [
       "<Figure size 2160x720 with 1 Axes>"
      ]
     },
     "metadata": {},
     "output_type": "display_data"
    }
   ],
   "source": [
    "# List of gpu statical labels mentioned in the dataset\n",
    "gpu_stats = ['Power (W)','Temperature (C)','GPU Util.(%)','Memory Util.(%)']\n",
    "\n",
    "plt.subplot(1, 2, 1)\n",
    "plt.boxplot([df_gpu['powerDrawWatt'], df_gpu['gpuTempC'],\n",
    "df_gpu['gpuUtilPerc'], df_gpu['gpuMemUtilPerc']])\n",
    "\n",
    "# Add labels\n",
    "plt.xticks([i+1 for i, x in enumerate(gpu_stats)],\n",
    "gpu_stats, rotation='vertical')\n",
    "\n",
    "# Plot Title\n",
    "plt.title('Box Plot of GPU Statistics')\n",
    "plt.rcParams['figure.figsize'] = [30, 10]\n",
    "\n",
    "# Saving Image\n",
    "plt.savefig('Images/Box-plot.png')\n",
    "plt.show()\n"
   ]
  },
  {
   "cell_type": "code",
   "execution_count": 68,
   "metadata": {},
   "outputs": [
    {
     "data": {
      "image/png": "[encoded data removed]",
      "text/plain": [
       "<Figure size 720x432 with 1 Axes>"
      ]
     },
     "metadata": {},
     "output_type": "display_data"
    }
   ],
   "source": [
    "# Plotting scatter plot\n",
    "#fig = plt.figure(figsize = (10,7))\n",
    "df_gpu.boxplot(column = [\"gpuTempC\"])\n",
    "plt.title('Box Plot GPU Temp (Celcius)')\n",
    "\n",
    "# Defining chart size\n",
    "plt.rcParams['figure.figsize'] = [10, 6]\n",
    "\n",
    "# Saving Image\n",
    "plt.savefig('Images/Box-plot_gpu_temp.png')\n",
    "plt.show()"
   ]
  },
  {
   "cell_type": "code",
   "execution_count": null,
   "metadata": {},
   "outputs": [],
   "source": []
  },
  {
   "cell_type": "code",
   "execution_count": null,
   "metadata": {},
   "outputs": [],
   "source": []
  }
 ],
 "metadata": {
  "kernelspec": {
   "display_name": "Python 3",
   "language": "python",
   "name": "python3"
  },
  "language_info": {
   "codemirror_mode": {
    "name": "ipython",
    "version": 3
   },
   "file_extension": ".py",
   "mimetype": "text/x-python",
   "name": "python",
   "nbconvert_exporter": "python",
   "pygments_lexer": "ipython3",
   "version": "3.9.5"
  }
 },
 "nbformat": 4,
 "nbformat_minor": 4
}
